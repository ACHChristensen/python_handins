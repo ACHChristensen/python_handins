{
 "cells": [
  {
   "cell_type": "markdown",
   "metadata": {},
   "source": [
    "# Week 1 handin"
   ]
  },
  {
   "cell_type": "markdown",
   "metadata": {},
   "source": [
    "## 01 Assignment\n",
    "1. Create 5 list comprehensions to solve the following 5 problems:\n",
    "  1. Iterate a list of names to return a list of the names starting with H\n",
    "  2. In one line create a list of the numbers 1-100 to the power of 3\n",
    "  3. Iterate a list of names to create a list of tuples where the tuples first value is the length of the name and the second is the name\n",
    "  4. Iterate over each character in a string and get only those that are nummeric\n",
    "  5. Using only a list comprehension wrapped in set() get all possible combination from throwing 2 dice (hint use 2 for loops in a single list comprehension)"
   ]
  },
  {
   "cell_type": "markdown",
   "metadata": {},
   "source": [
    "2. Create 2 dictionary comprehensions to solve the following:\n",
    "  1. Iterate a list of names and create a dictionary where key is the name and value is the length of the name\n",
    "  2. Iterate a list of numbers and create a dictionary with {key:value} being {number:squareroot_of_number}"
   ]
  },
  {
   "cell_type": "markdown",
   "metadata": {},
   "source": [
    "3. Extra assignment (This one goes beyond what is covered in the course notebooks. So only do it if you want an extra challenge).\n",
    "  - Progammatically using loops create a small program to produce a dictionary with all the 2 dice throw combinations as keys and their likelyhood in percent as values\n"
   ]
  },
  {
   "cell_type": "markdown",
   "metadata": {},
   "source": [
    "## 02 Status\n",
    "Måske har jeg misforstået opgave 1.E men ellers er alt implementeret - også ekstra-opgaven :)\n",
    "\n",
    "Jeg har tilføjet print() for at kunne se resultat/outputet printet ud på skærmen"
   ]
  },
  {
   "cell_type": "markdown",
   "metadata": {},
   "source": [
    "## 03 Solution part 1"
   ]
  },
  {
   "cell_type": "code",
   "execution_count": 131,
   "metadata": {},
   "outputs": [
    {
     "name": "stdout",
     "output_type": "stream",
     "text": [
      "['Henriette', 'Hans', 'Helena', 'Helge']\n"
     ]
    }
   ],
   "source": [
    "# 1.A \n",
    "# Iterate a list of names to return a list of the names starting with H\n",
    "names = [\"Miw\", \"Cathrine\", \"Louise\", \"Mads\", \"Henriette\",\"Hans\", \"Christian\", \"Thorvald\", \"Søren\", \"Helena\", \"Kasper\", \"Charles\", \"Maren\", \"Helge\"]\n",
    "def names_starts_with_H(name_list):\n",
    "    h_names = [name for name in name_list if name[0] == \"H\"]   \n",
    "    return h_names\n",
    "\n",
    "print(names_starts_with_H(names))"
   ]
  },
  {
   "cell_type": "code",
   "execution_count": 45,
   "metadata": {},
   "outputs": [
    {
     "name": "stdout",
     "output_type": "stream",
     "text": [
      "[1, 8, 27, 64, 125, 216, 343, 512, 729, 1000, 1331, 1728, 2197, 2744, 3375, 4096, 4913, 5832, 6859, 8000, 9261, 10648, 12167, 13824, 15625, 17576, 19683, 21952, 24389, 27000, 29791, 32768, 35937, 39304, 42875, 46656, 50653, 54872, 59319, 64000, 68921, 74088, 79507, 85184, 91125, 97336, 103823, 110592, 117649, 125000, 132651, 140608, 148877, 157464, 166375, 175616, 185193, 195112, 205379, 216000, 226981, 238328, 250047, 262144, 274625, 287496, 300763, 314432, 328509, 343000, 357911, 373248, 389017, 405224, 421875, 438976, 456533, 474552, 493039, 512000, 531441, 551368, 571787, 592704, 614125, 636056, 658503, 681472, 704969, 729000, 753571, 778688, 804357, 830584, 857375, 884736, 912673, 941192, 970299, 1000000]\n"
     ]
    }
   ],
   "source": [
    "# 1.B\n",
    "# In one line create a list of the numbers 1-100 to the power of 3\n",
    "print([number**3 for number in range(1,101)])"
   ]
  },
  {
   "cell_type": "code",
   "execution_count": 50,
   "metadata": {},
   "outputs": [
    {
     "name": "stdout",
     "output_type": "stream",
     "text": [
      "[(3, 'Miw'), (8, 'Cathrine'), (6, 'Louise'), (4, 'Mads'), (9, 'Henriette'), (4, 'Hans'), (9, 'Christian'), (9, 'Thoarvald'), (5, 'Søren'), (6, 'Helena'), (6, 'Kasper'), (7, 'Charles'), (5, 'Maren'), (5, 'Helge')]\n"
     ]
    }
   ],
   "source": [
    "# 1.C\n",
    "# Iterate a list of names to create a list of tuples where the tuples first value is the length of the name and the second is the name\n",
    "names_n_lenghts = [(len(name), name) for name in names]\n",
    "print(names_n_lenghts)"
   ]
  },
  {
   "cell_type": "code",
   "execution_count": 32,
   "metadata": {},
   "outputs": [
    {
     "name": "stdout",
     "output_type": "stream",
     "text": [
      "['3', '0', '3', '2', '0', '4', '2', '4', '0', '2', '4']\n"
     ]
    }
   ],
   "source": [
    "# 1.D\n",
    "# Iterate over each character in a string and get only those that are nummeric\n",
    "random_string = \"knogopjewor30r3204mgerkpå24024åokw\"\n",
    "nummerics = [character for character in random_string if character.isnumeric()]\n",
    "print (nummerics)"
   ]
  },
  {
   "cell_type": "code",
   "execution_count": null,
   "metadata": {},
   "outputs": [],
   "source": []
  },
  {
   "cell_type": "code",
   "execution_count": 20,
   "metadata": {},
   "outputs": [
    {
     "name": "stdout",
     "output_type": "stream",
     "text": [
      "[[1], [1, 2], [1, 3], [1, 4], [1, 5], [1, 6], [1, 2], [2], [2, 3], [2, 4], [2, 5], [2, 6], [1, 3], [2, 3], [3], [3, 4], [3, 5], [3, 6], [1, 4], [2, 4], [3, 4], [4], [4, 5], [4, 6], [1, 5], [2, 5], [3, 5], [4, 5], [5], [5, 6], [1, 6], [2, 6], [3, 6], [4, 6], [5, 6], [6]]\n",
      "[[1, 1], [2, 1], [2, 2], [3, 1], [3, 2], [3, 3], [4, 1], [4, 2], [4, 3], [4, 4], [5, 1], [5, 2], [5, 3], [5, 4], [5, 5], [6, 1], [6, 2], [6, 3], [6, 4], [6, 5], [6, 6]]\n"
     ]
    }
   ],
   "source": [
    "# 1.E - Jeg er i tvivl om jeg forstår spørgsmålet rigtigt\n",
    "# Using only a list comprehension wrapped in set() get all possible combination from throwing 2 dice (hint use 2 for loops in a single list comprehension)\n",
    "combination_dice_1res = [sorted({dice1,dice2}) for dice1 in range(1,7) for dice2 in range(1,7)]\n",
    "print(combination_dice_1res)\n",
    "\n",
    "combination_dice_2res = [[dice1,dice2] for dice1 in range(1,7) for dice2 in range(1,7) if (dice1>=dice2)]\n",
    "print(combination_dice_2res)"
   ]
  },
  {
   "cell_type": "markdown",
   "metadata": {},
   "source": [
    "## 04 Solution part 2"
   ]
  },
  {
   "cell_type": "code",
   "execution_count": 157,
   "metadata": {},
   "outputs": [
    {
     "name": "stdout",
     "output_type": "stream",
     "text": [
      "{'Miw': 3, 'Cathrine': 8, 'Louise': 6, 'Mads': 4, 'Henriette': 9, 'Hans': 4, 'Christian': 9, 'Thorvald': 8, 'Søren': 5, 'Helena': 6, 'Kasper': 6, 'Charles': 7, 'Maren': 5, 'Helge': 5}\n"
     ]
    }
   ],
   "source": [
    "# 2.A\n",
    "# Iterate a list of names and create a dictionary where key is the name and value is the length of the name\n",
    "lengths_names = dict([(name,len(name)) for name in names])\n",
    "print (lengths_names)"
   ]
  },
  {
   "cell_type": "code",
   "execution_count": 173,
   "metadata": {
    "scrolled": true
   },
   "outputs": [
    {
     "name": "stdout",
     "output_type": "stream",
     "text": [
      "{0: 0.0, 1: 1.0, 2: 1.4142135623730951, 3: 1.7320508075688772, 4: 2.0, 5: 2.23606797749979, 6: 2.449489742783178, 7: 2.6457513110645907, 8: 2.8284271247461903, 9: 3.0, 10: 3.1622776601683795, 11: 3.3166247903554, 12: 3.4641016151377544, 13: 3.605551275463989, 14: 3.7416573867739413, 15: 3.872983346207417, 16: 4.0, 17: 4.123105625617661, 18: 4.242640687119285, 19: 4.358898943540674, 20: 4.47213595499958, 21: 4.58257569495584, 22: 4.69041575982343, 23: 4.795831523312719, 24: 4.898979485566356, 25: 5.0, 26: 5.0990195135927845, 27: 5.196152422706632, 28: 5.291502622129181, 29: 5.385164807134504, 30: 5.477225575051661, 31: 5.5677643628300215, 32: 5.656854249492381, 33: 5.744562646538029, 34: 5.830951894845301, 35: 5.916079783099616, 36: 6.0, 37: 6.082762530298219, 38: 6.164414002968976, 39: 6.244997998398398, 40: 6.324555320336759}\n"
     ]
    }
   ],
   "source": [
    "# 2.B\n",
    "# Iterate a list of numbers and create a dictionary with {key:value} being {number:squareroot_of_number}\n",
    "import math\n",
    "\n",
    "numbers = [number for number in range(0,41)]\n",
    "dict_numbers = dict([(number,math.sqrt(number)) for number in numbers])\n",
    "print (dict_numbers)"
   ]
  },
  {
   "cell_type": "markdown",
   "metadata": {},
   "source": [
    "## 05 Solution part 3"
   ]
  },
  {
   "cell_type": "code",
   "execution_count": 214,
   "metadata": {},
   "outputs": [
    {
     "name": "stdout",
     "output_type": "stream",
     "text": [
      "How sides does dice 1 have? 6\n",
      "How sides does dice 2 have? 6\n",
      "{2: '2.78%', 3: '5.56%', 4: '8.33%', 5: '11.11%', 6: '13.89%', 7: '16.67%', 8: '13.89%', 9: '11.11%', 10: '8.33%', 11: '5.56%', 12: '2.78%'}\n"
     ]
    }
   ],
   "source": [
    "# 3.Extra\n",
    "# Progammatically using loops create a small program to produce a dictionary with all the 2 dice throw combinations as keys and their likelyhood in percent as values\n",
    "\n",
    "#Terninger kan have forskellige antal sider så vi må spørge hvilke to der er snak om\n",
    "dice1 = int(input(\"How sides does dice 1 have? \"))\n",
    "dice2 = int(input(\"How sides does dice 2 have? \"))\n",
    "\n",
    "def likelyhood_for_2dice(dice1_max, dice2_max):\n",
    "    eyes_and_likehood_percent = {};\n",
    "    \n",
    "    eyes_total = [qnty_eyes1 + qnty_eyes2 for qnty_eyes1 in range(1,(dice1_max+1)) for qnty_eyes2 in range(1,(dice2_max+1))]\n",
    "    eyes_total_uniqe = set(eyes_total)\n",
    "    for eyes_qnty in eyes_total_uniqe:\n",
    "        count = eyes_total.count(eyes_qnty)\n",
    "        percent = count/len(eyes_total) * 100\n",
    "        percent = float(\"{0:.2f}\".format(percent))\n",
    "        eyes_and_likehood_percent[eyes_qnty] = str(percent)+\"%\" \n",
    "    return eyes_and_likehood_percent\n",
    "\n",
    "print(likelyhood_for_2dice(dice1,dice2))"
   ]
  }
 ],
 "metadata": {
  "kernelspec": {
   "display_name": "Python 3",
   "language": "python",
   "name": "python3"
  },
  "language_info": {
   "codemirror_mode": {
    "name": "ipython",
    "version": 3
   },
   "file_extension": ".py",
   "mimetype": "text/x-python",
   "name": "python",
   "nbconvert_exporter": "python",
   "pygments_lexer": "ipython3",
   "version": "3.7.6"
  }
 },
 "nbformat": 4,
 "nbformat_minor": 4
}
